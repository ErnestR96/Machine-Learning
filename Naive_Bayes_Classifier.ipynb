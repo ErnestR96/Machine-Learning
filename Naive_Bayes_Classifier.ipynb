{
 "cells": [
  {
   "cell_type": "code",
   "execution_count": 4,
   "metadata": {},
   "outputs": [],
   "source": [
    "#Importas las librerías requeridas\n",
    "import pandas as pd\n",
    "from sklearn.feature_selection import SelectKBest, f_regression\n",
    "from sklearn.linear_model import LinearRegression\n",
    "from sklearn.model_selection import train_test_split\n",
    "import numpy as np"
   ]
  },
  {
   "cell_type": "code",
   "execution_count": 5,
   "metadata": {},
   "outputs": [],
   "source": [
    "#Cargar el dataset\n",
    "data = pd.read_csv('comprar_alquilar.csv')\n"
   ]
  },
  {
   "cell_type": "code",
   "execution_count": 6,
   "metadata": {},
   "outputs": [
    {
     "ename": "NameError",
     "evalue": "name 'plt' is not defined",
     "output_type": "error",
     "traceback": [
      "\u001b[1;31m---------------------------------------------------------------------------\u001b[0m",
      "\u001b[1;31mNameError\u001b[0m                                 Traceback (most recent call last)",
      "\u001b[1;32mc:\\Users\\LENOVO\\Documents\\IA bootcamp ucamp\\M1.ipynb Celda 3\u001b[0m line \u001b[0;36m6\n\u001b[0;32m      <a href='vscode-notebook-cell:/c%3A/Users/LENOVO/Documents/IA%20bootcamp%20ucamp/M1.ipynb#W3sZmlsZQ%3D%3D?line=3'>4</a>\u001b[0m \u001b[39mfor\u001b[39;00m variable \u001b[39min\u001b[39;00m variables:\n\u001b[0;32m      <a href='vscode-notebook-cell:/c%3A/Users/LENOVO/Documents/IA%20bootcamp%20ucamp/M1.ipynb#W3sZmlsZQ%3D%3D?line=4'>5</a>\u001b[0m     data[variable]\u001b[39m.\u001b[39mplot(kind\u001b[39m=\u001b[39m\u001b[39m'\u001b[39m\u001b[39mhist\u001b[39m\u001b[39m'\u001b[39m, title\u001b[39m=\u001b[39mvariable)\n\u001b[1;32m----> <a href='vscode-notebook-cell:/c%3A/Users/LENOVO/Documents/IA%20bootcamp%20ucamp/M1.ipynb#W3sZmlsZQ%3D%3D?line=5'>6</a>\u001b[0m     plt\u001b[39m.\u001b[39mshow()\n",
      "\u001b[1;31mNameError\u001b[0m: name 'plt' is not defined"
     ]
    },
    {
     "data": {
      "image/png": "[encoded data removed]",
      "text/plain": [
       "<Figure size 640x480 with 1 Axes>"
      ]
     },
     "metadata": {},
     "output_type": "display_data"
    }
   ],
   "source": [
    "# Describir cada variable creando un histograma para las variables independientes\n",
    "variables = data.columns[:-1]  # Todas las columnas excepto la última (comprar)\n",
    "\n",
    "for variable in variables:\n",
    "    data[variable].plot(kind='hist', title=variable)\n",
    "    plt.show()"
   ]
  },
  {
   "cell_type": "code",
   "execution_count": null,
   "metadata": {},
   "outputs": [
    {
     "data": {
      "text/html": [
       "<div>\n",
       "<style scoped>\n",
       "    .dataframe tbody tr th:only-of-type {\n",
       "        vertical-align: middle;\n",
       "    }\n",
       "\n",
       "    .dataframe tbody tr th {\n",
       "        vertical-align: top;\n",
       "    }\n",
       "\n",
       "    .dataframe thead th {\n",
       "        text-align: right;\n",
       "    }\n",
       "</style>\n",
       "<table border=\"1\" class=\"dataframe\">\n",
       "  <thead>\n",
       "    <tr style=\"text-align: right;\">\n",
       "      <th></th>\n",
       "      <th>ingresos</th>\n",
       "      <th>gastos_comunes</th>\n",
       "      <th>pago_coche</th>\n",
       "      <th>gastos_otros</th>\n",
       "      <th>ahorros</th>\n",
       "      <th>vivienda</th>\n",
       "      <th>estado_civil</th>\n",
       "      <th>hijos</th>\n",
       "      <th>trabajo</th>\n",
       "    </tr>\n",
       "  </thead>\n",
       "  <tbody>\n",
       "    <tr>\n",
       "      <th>ingresos</th>\n",
       "      <td>1.000000</td>\n",
       "      <td>0.560211</td>\n",
       "      <td>-0.109780</td>\n",
       "      <td>-0.124105</td>\n",
       "      <td>0.712889</td>\n",
       "      <td>0.614721</td>\n",
       "      <td>-0.042556</td>\n",
       "      <td>-0.024483</td>\n",
       "      <td>-0.038852</td>\n",
       "    </tr>\n",
       "    <tr>\n",
       "      <th>gastos_comunes</th>\n",
       "      <td>0.560211</td>\n",
       "      <td>1.000000</td>\n",
       "      <td>-0.054400</td>\n",
       "      <td>-0.099881</td>\n",
       "      <td>0.209414</td>\n",
       "      <td>0.204781</td>\n",
       "      <td>-0.057152</td>\n",
       "      <td>-0.072321</td>\n",
       "      <td>-0.079095</td>\n",
       "    </tr>\n",
       "    <tr>\n",
       "      <th>pago_coche</th>\n",
       "      <td>-0.109780</td>\n",
       "      <td>-0.054400</td>\n",
       "      <td>1.000000</td>\n",
       "      <td>0.010602</td>\n",
       "      <td>-0.193299</td>\n",
       "      <td>-0.094631</td>\n",
       "      <td>0.052239</td>\n",
       "      <td>-0.044858</td>\n",
       "      <td>0.018946</td>\n",
       "    </tr>\n",
       "    <tr>\n",
       "      <th>gastos_otros</th>\n",
       "      <td>-0.124105</td>\n",
       "      <td>-0.099881</td>\n",
       "      <td>0.010602</td>\n",
       "      <td>1.000000</td>\n",
       "      <td>-0.064384</td>\n",
       "      <td>-0.054577</td>\n",
       "      <td>-0.020226</td>\n",
       "      <td>0.124845</td>\n",
       "      <td>0.047313</td>\n",
       "    </tr>\n",
       "    <tr>\n",
       "      <th>ahorros</th>\n",
       "      <td>0.712889</td>\n",
       "      <td>0.209414</td>\n",
       "      <td>-0.193299</td>\n",
       "      <td>-0.064384</td>\n",
       "      <td>1.000000</td>\n",
       "      <td>0.605836</td>\n",
       "      <td>-0.063039</td>\n",
       "      <td>0.001445</td>\n",
       "      <td>-0.023829</td>\n",
       "    </tr>\n",
       "    <tr>\n",
       "      <th>vivienda</th>\n",
       "      <td>0.614721</td>\n",
       "      <td>0.204781</td>\n",
       "      <td>-0.094631</td>\n",
       "      <td>-0.054577</td>\n",
       "      <td>0.605836</td>\n",
       "      <td>1.000000</td>\n",
       "      <td>-0.113420</td>\n",
       "      <td>-0.141924</td>\n",
       "      <td>-0.211790</td>\n",
       "    </tr>\n",
       "    <tr>\n",
       "      <th>estado_civil</th>\n",
       "      <td>-0.042556</td>\n",
       "      <td>-0.057152</td>\n",
       "      <td>0.052239</td>\n",
       "      <td>-0.020226</td>\n",
       "      <td>-0.063039</td>\n",
       "      <td>-0.113420</td>\n",
       "      <td>1.000000</td>\n",
       "      <td>0.507609</td>\n",
       "      <td>0.589512</td>\n",
       "    </tr>\n",
       "    <tr>\n",
       "      <th>hijos</th>\n",
       "      <td>-0.024483</td>\n",
       "      <td>-0.072321</td>\n",
       "      <td>-0.044858</td>\n",
       "      <td>0.124845</td>\n",
       "      <td>0.001445</td>\n",
       "      <td>-0.141924</td>\n",
       "      <td>0.507609</td>\n",
       "      <td>1.000000</td>\n",
       "      <td>0.699916</td>\n",
       "    </tr>\n",
       "    <tr>\n",
       "      <th>trabajo</th>\n",
       "      <td>-0.038852</td>\n",
       "      <td>-0.079095</td>\n",
       "      <td>0.018946</td>\n",
       "      <td>0.047313</td>\n",
       "      <td>-0.023829</td>\n",
       "      <td>-0.211790</td>\n",
       "      <td>0.589512</td>\n",
       "      <td>0.699916</td>\n",
       "      <td>1.000000</td>\n",
       "    </tr>\n",
       "  </tbody>\n",
       "</table>\n",
       "</div>"
      ],
      "text/plain": [
       "                ingresos  gastos_comunes  pago_coche  gastos_otros   ahorros  \\\n",
       "ingresos        1.000000        0.560211   -0.109780     -0.124105  0.712889   \n",
       "gastos_comunes  0.560211        1.000000   -0.054400     -0.099881  0.209414   \n",
       "pago_coche     -0.109780       -0.054400    1.000000      0.010602 -0.193299   \n",
       "gastos_otros   -0.124105       -0.099881    0.010602      1.000000 -0.064384   \n",
       "ahorros         0.712889        0.209414   -0.193299     -0.064384  1.000000   \n",
       "vivienda        0.614721        0.204781   -0.094631     -0.054577  0.605836   \n",
       "estado_civil   -0.042556       -0.057152    0.052239     -0.020226 -0.063039   \n",
       "hijos          -0.024483       -0.072321   -0.044858      0.124845  0.001445   \n",
       "trabajo        -0.038852       -0.079095    0.018946      0.047313 -0.023829   \n",
       "\n",
       "                vivienda  estado_civil     hijos   trabajo  \n",
       "ingresos        0.614721     -0.042556 -0.024483 -0.038852  \n",
       "gastos_comunes  0.204781     -0.057152 -0.072321 -0.079095  \n",
       "pago_coche     -0.094631      0.052239 -0.044858  0.018946  \n",
       "gastos_otros   -0.054577     -0.020226  0.124845  0.047313  \n",
       "ahorros         0.605836     -0.063039  0.001445 -0.023829  \n",
       "vivienda        1.000000     -0.113420 -0.141924 -0.211790  \n",
       "estado_civil   -0.113420      1.000000  0.507609  0.589512  \n",
       "hijos          -0.141924      0.507609  1.000000  0.699916  \n",
       "trabajo        -0.211790      0.589512  0.699916  1.000000  "
      ]
     },
     "execution_count": 189,
     "metadata": {},
     "output_type": "execute_result"
    }
   ],
   "source": [
    "# Mostrar la correlación de todas las variables independientes\n",
    "correlation_matrix = data[variables].corr()\n",
    "correlation_matrix\n"
   ]
  },
  {
   "cell_type": "code",
   "execution_count": null,
   "metadata": {},
   "outputs": [
    {
     "data": {
      "text/plain": [
       "ingresos          0.467123\n",
       "gastos_comunes    0.200191\n",
       "pago_coche       -0.196468\n",
       "gastos_otros     -0.110330\n",
       "ahorros           0.340778\n",
       "vivienda         -0.146092\n",
       "estado_civil      0.142799\n",
       "hijos             0.272883\n",
       "trabajo           0.341537\n",
       "dtype: float64"
      ]
     },
     "execution_count": 190,
     "metadata": {},
     "output_type": "execute_result"
    }
   ],
   "source": [
    "# Mostrar la correlación con la variable dependiente \"comprar\"\n",
    "correlacion_vs_variabledependiente = data[variables].corrwith(data['comprar'])\n",
    "correlacion_vs_variabledependiente"
   ]
  },
  {
   "cell_type": "code",
   "execution_count": null,
   "metadata": {},
   "outputs": [
    {
     "data": {
      "text/plain": [
       "ingresos          0.467123\n",
       "trabajo           0.341537\n",
       "ahorros           0.340778\n",
       "hijos             0.272883\n",
       "gastos_comunes    0.200191\n",
       "dtype: float64"
      ]
     },
     "execution_count": 191,
     "metadata": {},
     "output_type": "execute_result"
    }
   ],
   "source": [
    "# Identificar las 5 variables con mayor correlación con la variable a predecir\n",
    "top_5_variables_correlacion = correlacion_vs_variabledependiente.abs().nlargest(5)\n",
    "top_5_variables_correlacion"
   ]
  },
  {
   "cell_type": "code",
   "execution_count": null,
   "metadata": {},
   "outputs": [],
   "source": [
    "# Evaluar la posibilidad de multicolinealidad\n",
    "# Aquí puedes calcular el VIF para cada variable si lo deseas.\n"
   ]
  },
  {
   "cell_type": "code",
   "execution_count": null,
   "metadata": {},
   "outputs": [],
   "source": [
    "# Utilizar SelectKBest para seleccionar las 5 mejores variables\n",
    "X = data[variables]\n",
    "y = data['comprar']\n",
    "X_train, X_test, y_train, y_test = train_test_split(X, y, test_size=0.2, random_state=42)\n",
    "\n",
    "num_features_to_select = 5\n",
    "selector = SelectKBest(score_func=f_regression, k=num_features_to_select)\n",
    "X_train_selected = selector.fit_transform(X_train, y_train)\n",
    "X_test_selected = selector.transform(X_test)"
   ]
  },
  {
   "cell_type": "code",
   "execution_count": null,
   "metadata": {},
   "outputs": [
    {
     "data": {
      "text/html": [
       "<style>#sk-container-id-15 {color: black;}#sk-container-id-15 pre{padding: 0;}#sk-container-id-15 div.sk-toggleable {background-color: white;}#sk-container-id-15 label.sk-toggleable__label {cursor: pointer;display: block;width: 100%;margin-bottom: 0;padding: 0.3em;box-sizing: border-box;text-align: center;}#sk-container-id-15 label.sk-toggleable__label-arrow:before {content: \"▸\";float: left;margin-right: 0.25em;color: #696969;}#sk-container-id-15 label.sk-toggleable__label-arrow:hover:before {color: black;}#sk-container-id-15 div.sk-estimator:hover label.sk-toggleable__label-arrow:before {color: black;}#sk-container-id-15 div.sk-toggleable__content {max-height: 0;max-width: 0;overflow: hidden;text-align: left;background-color: #f0f8ff;}#sk-container-id-15 div.sk-toggleable__content pre {margin: 0.2em;color: black;border-radius: 0.25em;background-color: #f0f8ff;}#sk-container-id-15 input.sk-toggleable__control:checked~div.sk-toggleable__content {max-height: 200px;max-width: 100%;overflow: auto;}#sk-container-id-15 input.sk-toggleable__control:checked~label.sk-toggleable__label-arrow:before {content: \"▾\";}#sk-container-id-15 div.sk-estimator input.sk-toggleable__control:checked~label.sk-toggleable__label {background-color: #d4ebff;}#sk-container-id-15 div.sk-label input.sk-toggleable__control:checked~label.sk-toggleable__label {background-color: #d4ebff;}#sk-container-id-15 input.sk-hidden--visually {border: 0;clip: rect(1px 1px 1px 1px);clip: rect(1px, 1px, 1px, 1px);height: 1px;margin: -1px;overflow: hidden;padding: 0;position: absolute;width: 1px;}#sk-container-id-15 div.sk-estimator {font-family: monospace;background-color: #f0f8ff;border: 1px dotted black;border-radius: 0.25em;box-sizing: border-box;margin-bottom: 0.5em;}#sk-container-id-15 div.sk-estimator:hover {background-color: #d4ebff;}#sk-container-id-15 div.sk-parallel-item::after {content: \"\";width: 100%;border-bottom: 1px solid gray;flex-grow: 1;}#sk-container-id-15 div.sk-label:hover label.sk-toggleable__label {background-color: #d4ebff;}#sk-container-id-15 div.sk-serial::before {content: \"\";position: absolute;border-left: 1px solid gray;box-sizing: border-box;top: 0;bottom: 0;left: 50%;z-index: 0;}#sk-container-id-15 div.sk-serial {display: flex;flex-direction: column;align-items: center;background-color: white;padding-right: 0.2em;padding-left: 0.2em;position: relative;}#sk-container-id-15 div.sk-item {position: relative;z-index: 1;}#sk-container-id-15 div.sk-parallel {display: flex;align-items: stretch;justify-content: center;background-color: white;position: relative;}#sk-container-id-15 div.sk-item::before, #sk-container-id-15 div.sk-parallel-item::before {content: \"\";position: absolute;border-left: 1px solid gray;box-sizing: border-box;top: 0;bottom: 0;left: 50%;z-index: -1;}#sk-container-id-15 div.sk-parallel-item {display: flex;flex-direction: column;z-index: 1;position: relative;background-color: white;}#sk-container-id-15 div.sk-parallel-item:first-child::after {align-self: flex-end;width: 50%;}#sk-container-id-15 div.sk-parallel-item:last-child::after {align-self: flex-start;width: 50%;}#sk-container-id-15 div.sk-parallel-item:only-child::after {width: 0;}#sk-container-id-15 div.sk-dashed-wrapped {border: 1px dashed gray;margin: 0 0.4em 0.5em 0.4em;box-sizing: border-box;padding-bottom: 0.4em;background-color: white;}#sk-container-id-15 div.sk-label label {font-family: monospace;font-weight: bold;display: inline-block;line-height: 1.2em;}#sk-container-id-15 div.sk-label-container {text-align: center;}#sk-container-id-15 div.sk-container {/* jupyter's `normalize.less` sets `[hidden] { display: none; }` but bootstrap.min.css set `[hidden] { display: none !important; }` so we also need the `!important` here to be able to override the default hidden behavior on the sphinx rendered scikit-learn.org. See: https://github.com/scikit-learn/scikit-learn/issues/21755 */display: inline-block !important;position: relative;}#sk-container-id-15 div.sk-text-repr-fallback {display: none;}</style><div id=\"sk-container-id-15\" class=\"sk-top-container\"><div class=\"sk-text-repr-fallback\"><pre>LinearRegression()</pre><b>In a Jupyter environment, please rerun this cell to show the HTML representation or trust the notebook. <br />On GitHub, the HTML representation is unable to render, please try loading this page with nbviewer.org.</b></div><div class=\"sk-container\" hidden><div class=\"sk-item\"><div class=\"sk-estimator sk-toggleable\"><input class=\"sk-toggleable__control sk-hidden--visually\" id=\"sk-estimator-id-15\" type=\"checkbox\" checked><label for=\"sk-estimator-id-15\" class=\"sk-toggleable__label sk-toggleable__label-arrow\">LinearRegression</label><div class=\"sk-toggleable__content\"><pre>LinearRegression()</pre></div></div></div></div></div>"
      ],
      "text/plain": [
       "LinearRegression()"
      ]
     },
     "execution_count": 194,
     "metadata": {},
     "output_type": "execute_result"
    }
   ],
   "source": [
    "# Entrenar dos modelos: uno con todas las variables y otro con las 5 mejores\n",
    "model_all_features = LinearRegression()\n",
    "model_selected_features = LinearRegression()\n",
    "\n",
    "model_all_features.fit(X_train, y_train)\n",
    "model_selected_features.fit(X_train_selected, y_train)"
   ]
  },
  {
   "cell_type": "code",
   "execution_count": null,
   "metadata": {},
   "outputs": [
    {
     "name": "stdout",
     "output_type": "stream",
     "text": [
      "0.9024390243902439\n",
      "0.7560975609756098\n"
     ]
    }
   ],
   "source": [
    "# Comparar ambos modelos y elegir el mejor en términos de precisión (accuracy)\n",
    "from sklearn.metrics import accuracy_score\n",
    "\n",
    "y_pred_all_features = model_all_features.predict(X_test)\n",
    "y_pred_selected_features = model_selected_features.predict(X_test_selected)\n",
    "\n",
    "accuracy_all_features = accuracy_score(y_test, [1 if p > 0.5 else 0 for p in y_pred_all_features])\n",
    "accuracy_selected_features = accuracy_score(y_test, [1 if p > 0.5 else 0 for p in y_pred_selected_features])\n",
    "\n",
    "mejor_modelo = model_all_features if accuracy_all_features > accuracy_selected_features else model_selected_features\n",
    "print(f'Resultados considerando todas las características = {accuracy_all_features}' )\n",
    "print (f'Resultados considerando todas las características = {accuracy_selected_features}')"
   ]
  },
  {
   "cell_type": "code",
   "execution_count": null,
   "metadata": {},
   "outputs": [],
   "source": [
    "# Entrenar el modelo seleccionado con todas las observaciones\n",
    "# y crear dos predicciones utilizando los datos de prueba proporcionados\n",
    "nuevos_datos = pd.DataFrame({\n",
    "    'ingresos': [2000, 6000],\n",
    "    'gastos_comunes': [944, 944],\n",
    "    'pago_coche': [0, 0],\n",
    "    'gastos_otros': [245, 245],\n",
    "    'ahorros': [5000, 34000],\n",
    "    'vivienda': [200000, 320000],\n",
    "    'estado_civil': [0, 1],\n",
    "    'hijos': [0, 2],\n",
    "    'trabajo': [1, 1]\n",
    "})"
   ]
  },
  {
   "cell_type": "code",
   "execution_count": null,
   "metadata": {},
   "outputs": [
    {
     "name": "stdout",
     "output_type": "stream",
     "text": [
      "\n",
      "Predicción para nuevos datos (modelo con todas las variables):\n",
      "Primer caso: no comprar\n",
      "Segundo caso: comprar\n"
     ]
    }
   ],
   "source": [
    "# Seleccionar las mejores características para los nuevos datos\n",
    "nuevos_datos_selected = selector.transform(nuevos_datos)\n",
    "\n",
    "# Predicciones utilizando el modelo con todas las variables\n",
    "prediccion_nuevos_datos_all_features = model_all_features.predict(nuevos_datos)\n",
    "\n",
    "\n",
    "# Traducir las predicciones a \"comprar\" o \"no comprar\"\n",
    "resultado_prediccion_all_features = [\"no comprar\" if prediccion <= 0.5 else \"comprar\" for prediccion in prediccion_nuevos_datos_all_features]\n",
    "\n",
    "# Asignar nombres a los casos\n",
    "casos = [\"Primer caso\", \"Segundo caso\"]\n",
    "\n",
    "# Crear un diccionario con los resultados\n",
    "resultados_all_features = dict(zip(casos, resultado_prediccion_all_features))\n",
    "\n",
    "print('Se considero el modelo con todas las variables ya que fue más alto 0.902 vs modelo con variables seleccionadas 0.756')\n",
    "print(\"\\nPredicción para nuevos datos (modelo con todas las variables):\")\n",
    "for caso, resultado in resultados_all_features.items():\n",
    "    print(f\"{caso}: {resultado}\")\n"
   ]
  }
 ],
 "metadata": {
  "kernelspec": {
   "display_name": "Python 3",
   "language": "python",
   "name": "python3"
  },
  "language_info": {
   "codemirror_mode": {
    "name": "ipython",
    "version": 3
   },
   "file_extension": ".py",
   "mimetype": "text/x-python",
   "name": "python",
   "nbconvert_exporter": "python",
   "pygments_lexer": "ipython3",
   "version": "3.11.2"
  }
 },
 "nbformat": 4,
 "nbformat_minor": 2
}
